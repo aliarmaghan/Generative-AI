{
 "cells": [
  {
   "cell_type": "code",
   "execution_count": 3,
   "id": "e938590e",
   "metadata": {},
   "outputs": [],
   "source": [
    "from dotenv import load_dotenv\n",
    "import os\n",
    "\n",
    "# Load environment variables from .env file\n",
    "load_dotenv()\n",
    "# Get the value of the environment variable\n",
    "api_key = os.getenv('GROQ_API_KEY')"
   ]
  },
  {
   "cell_type": "code",
   "execution_count": 9,
   "id": "3101cb13",
   "metadata": {},
   "outputs": [],
   "source": [
    "from langchain_experimental.graph_transformers import LLMGraphTransformer\n",
    "from langchain_core.documents import Document\n",
    "from langchain_groq import ChatGroq\n",
    "\n",
    "# Initialize the Groq chat model with the API key\n",
    "llm = ChatGroq(groq_api_key=api_key, model_name=\"deepseek-r1-distill-llama-70b\")\n",
    "\n",
    "graph_transformer = LLMGraphTransformer(llm=llm)"
   ]
  },
  {
   "cell_type": "code",
   "execution_count": 10,
   "id": "a45afc20",
   "metadata": {},
   "outputs": [],
   "source": [
    "text = \"\"\"\n",
    "Game of Thrones is an American fantasy drama television series created by David Benioff and D. B. Weiss for HBO. It is an adaptation of A Song of Ice and Fire, a series of high fantasy novels by George R. R. Martin, the first of which is A Game of Thrones. The show premiered on HBO in the United States on April 17, 2011, and concluded on May 19, 2019, with 73 episodes broadcast over eight seasons.\n",
    "\n",
    "Set on the fictional continents of Westeros and Essos, Game of Thrones has a large ensemble cast and follows several story arcs throughout the course of the show. The first major arc concerns the Iron Throne of the Seven Kingdoms of Westeros through a web of political conflicts among the noble families either vying to claim the throne or fighting for independence from whoever sits on it. The second major arc focuses on the last descendant of the realm's deposed ruling dynasty, who has been exiled to Essos and is plotting to return and reclaim the throne. The third follows the Night's Watch, a military order defending the realm against threats from beyond the Seven Kingdoms' northern border.\n",
    "\n",
    "Game of Thrones attracted a record viewership on HBO and has a broad, active, and international fan base. Many critics and publications have named the show one of the greatest television series of all time. Critics have praised the series for its acting, complex characters, story, scope, and production values, although its frequent use of nudity and violence (including sexual violence) generated controversy. The final season received significant criticism for its reduced length and creative decisions, with many considering it a disappointing conclusion. The series received 59 Primetime Emmy Awards, the most by a drama series, including Outstanding Drama Series in 2015, 2016, 2018 and 2019. Its other awards and nominations include three Hugo Awards for Best Dramatic Presentation, a Peabody Award, and five nominations for the Golden Globe Award for Best Television Series – Drama.\n",
    "\n",
    "A prequel series, House of the Dragon, premiered on HBO in 2022. A second prequel currently in production, A Knight of the Seven Kingdoms, is scheduled to debut in 2026.\n",
    "\"\"\""
   ]
  },
  {
   "cell_type": "code",
   "execution_count": 11,
   "id": "d61ee9f3",
   "metadata": {},
   "outputs": [],
   "source": [
    "documents  = [Document(page_content= text)]\n",
    "graph_doc = await graph_transformer.aconvert_to_graph_documents(documents)"
   ]
  },
  {
   "cell_type": "code",
   "execution_count": 12,
   "id": "1718a94a",
   "metadata": {},
   "outputs": [
    {
     "name": "stdout",
     "output_type": "stream",
     "text": [
      "Nodes: [Node(id='Game Of Thrones', type='Television series', properties={}), Node(id='David Benioff', type='Person', properties={}), Node(id='D. B. Weiss', type='Person', properties={}), Node(id='Hbo', type='Network', properties={}), Node(id='A Song Of Ice And Fire', type='Book series', properties={}), Node(id='George R. R. Martin', type='Person', properties={}), Node(id='A Game Of Thrones', type='Book', properties={}), Node(id='April 17, 2011', type='Date', properties={}), Node(id='May 19, 2019', type='Date', properties={}), Node(id='73 Episodes', type='Count', properties={}), Node(id='8 Seasons', type='Count', properties={}), Node(id='Westeros', type='Location', properties={}), Node(id='Essos', type='Location', properties={}), Node(id='Iron Throne', type='Concept', properties={}), Node(id='Record Viewership', type='Characteristic', properties={}), Node(id='Broad Fan Base', type='Characteristic', properties={}), Node(id='Critical Acclaim', type='Characteristic', properties={}), Node(id='Controversy', type='Characteristic', properties={}), Node(id='Primetime Emmy Awards', type='Award', properties={}), Node(id='Outstanding Drama Series', type='Award', properties={}), Node(id='Hugo Awards', type='Award', properties={}), Node(id='Peabody Award', type='Award', properties={}), Node(id='Golden Globe Nominations', type='Award', properties={}), Node(id='Final Season Criticism', type='Criticism', properties={}), Node(id='House Of The Dragon', type='Television series', properties={}), Node(id='2022', type='Date', properties={}), Node(id='A Knight Of The Seven Kingdoms', type='Television series', properties={}), Node(id='2026', type='Date', properties={})]\n",
      "Relationships: [Relationship(source=Node(id='Game Of Thrones', type='Television series', properties={}), target=Node(id='David Benioff', type='Person', properties={}), type='CREATED_BY', properties={}), Relationship(source=Node(id='Game Of Thrones', type='Television series', properties={}), target=Node(id='D. B. Weiss', type='Person', properties={}), type='CREATED_BY', properties={}), Relationship(source=Node(id='Game Of Thrones', type='Television series', properties={}), target=Node(id='Hbo', type='Network', properties={}), type='AIRED_ON', properties={}), Relationship(source=Node(id='Game Of Thrones', type='Television series', properties={}), target=Node(id='A Song Of Ice And Fire', type='Book series', properties={}), type='BASED_ON', properties={}), Relationship(source=Node(id='A Song Of Ice And Fire', type='Book series', properties={}), target=Node(id='George R. R. Martin', type='Person', properties={}), type='WRITTEN_BY', properties={}), Relationship(source=Node(id='Game Of Thrones', type='Television series', properties={}), target=Node(id='A Game Of Thrones', type='Book', properties={}), type='ADAPTATION_OF', properties={}), Relationship(source=Node(id='Game Of Thrones', type='Television series', properties={}), target=Node(id='April 17, 2011', type='Date', properties={}), type='PREMIERED_ON', properties={}), Relationship(source=Node(id='Game Of Thrones', type='Television series', properties={}), target=Node(id='May 19, 2019', type='Date', properties={}), type='CONCLUDED_ON', properties={}), Relationship(source=Node(id='Game Of Thrones', type='Television series', properties={}), target=Node(id='73 Episodes', type='Count', properties={}), type='CONSISTS_OF', properties={}), Relationship(source=Node(id='Game Of Thrones', type='Television series', properties={}), target=Node(id='8 Seasons', type='Count', properties={}), type='SPANNED', properties={}), Relationship(source=Node(id='Game Of Thrones', type='Television series', properties={}), target=Node(id='Westeros', type='Location', properties={}), type='SET_IN', properties={}), Relationship(source=Node(id='Game Of Thrones', type='Television series', properties={}), target=Node(id='Essos', type='Location', properties={}), type='SET_IN', properties={}), Relationship(source=Node(id='Game Of Thrones', type='Television series', properties={}), target=Node(id='Iron Throne', type='Concept', properties={}), type='CONCERNS', properties={}), Relationship(source=Node(id='Game Of Thrones', type='Television series', properties={}), target=Node(id='Record Viewership', type='Characteristic', properties={}), type='ATTRACTED', properties={}), Relationship(source=Node(id='Game Of Thrones', type='Television series', properties={}), target=Node(id='Broad Fan Base', type='Characteristic', properties={}), type='HAS', properties={}), Relationship(source=Node(id='Game Of Thrones', type='Television series', properties={}), target=Node(id='Critical Acclaim', type='Characteristic', properties={}), type='RECEIVED', properties={}), Relationship(source=Node(id='Game Of Thrones', type='Television series', properties={}), target=Node(id='Controversy', type='Characteristic', properties={}), type='GENERATED', properties={}), Relationship(source=Node(id='Game Of Thrones', type='Television series', properties={}), target=Node(id='Primetime Emmy Awards', type='Award', properties={}), type='RECEIVED', properties={}), Relationship(source=Node(id='Game Of Thrones', type='Television series', properties={}), target=Node(id='Outstanding Drama Series', type='Award', properties={}), type='WON', properties={}), Relationship(source=Node(id='Game Of Thrones', type='Television series', properties={}), target=Node(id='Hugo Awards', type='Award', properties={}), type='WON', properties={}), Relationship(source=Node(id='Game Of Thrones', type='Television series', properties={}), target=Node(id='Peabody Award', type='Award', properties={}), type='WON', properties={}), Relationship(source=Node(id='Game Of Thrones', type='Television series', properties={}), target=Node(id='Golden Globe Nominations', type='Award', properties={}), type='RECEIVED', properties={}), Relationship(source=Node(id='Game Of Thrones', type='Television series', properties={}), target=Node(id='Final Season Criticism', type='Criticism', properties={}), type='FACED', properties={}), Relationship(source=Node(id='Game Of Thrones', type='Television series', properties={}), target=Node(id='House Of The Dragon', type='Television series', properties={}), type='PREQUEL', properties={}), Relationship(source=Node(id='House Of The Dragon', type='Television series', properties={}), target=Node(id='2022', type='Date', properties={}), type='PREMIERED_IN', properties={}), Relationship(source=Node(id='Game Of Thrones', type='Television series', properties={}), target=Node(id='A Knight Of The Seven Kingdoms', type='Television series', properties={}), type='PREQUEL', properties={}), Relationship(source=Node(id='A Knight Of The Seven Kingdoms', type='Television series', properties={}), target=Node(id='2026', type='Date', properties={}), type='SCHEDULED_TO_DEBUT_IN', properties={})] \n"
     ]
    }
   ],
   "source": [
    "print(f\"Nodes: {graph_doc[0].nodes}\")\n",
    "print(f\"Relationships: {graph_doc[0].relationships} \")\n"
   ]
  },
  {
   "cell_type": "markdown",
   "id": "5c13dc42",
   "metadata": {},
   "source": [
    "### Visualize Graph"
   ]
  },
  {
   "cell_type": "code",
   "execution_count": 13,
   "id": "e74e443f",
   "metadata": {},
   "outputs": [
    {
     "name": "stdout",
     "output_type": "stream",
     "text": [
      "Graph saved to d:\\Projects\\KnowledgeGraph_App\\knowledge_graph.html\n"
     ]
    }
   ],
   "source": [
    "from pyvis.network import Network\n",
    "\n",
    "def visualize_graph(graph_documents):\n",
    "\n",
    "    # Create network\n",
    "    net = Network(height=\"1200px\", width=\"100%\", directed=True,\n",
    "                      notebook=False, bgcolor=\"#222222\", font_color=\"white\")\n",
    "    \n",
    "    nodes = graph_documents[0].nodes\n",
    "    relationships = graph_documents[0].relationships\n",
    "\n",
    "    # Build lookup for valid nodes\n",
    "    node_dict = {node.id: node for node in nodes}\n",
    "    \n",
    "    # Filter out invalid edges and collect valid node IDs\n",
    "    valid_edges = []\n",
    "    valid_node_ids = set()\n",
    "    for rel in relationships:\n",
    "        if rel.source.id in node_dict and rel.target.id in node_dict:\n",
    "            valid_edges.append(rel)\n",
    "            valid_node_ids.update([rel.source.id, rel.target.id])\n",
    "\n",
    "\n",
    "    # Track which nodes are part of any relationship\n",
    "    connected_node_ids = set()\n",
    "    for rel in relationships:\n",
    "        connected_node_ids.add(rel.source.id)\n",
    "        connected_node_ids.add(rel.target.id)\n",
    "\n",
    "    # Add valid nodes\n",
    "    for node_id in valid_node_ids:\n",
    "        node = node_dict[node_id]\n",
    "        try:\n",
    "            net.add_node(node.id, label=node.id, title=node.type, group=node.type)\n",
    "        except:\n",
    "            continue  # skip if error\n",
    "\n",
    "    # Add valid edges\n",
    "    for rel in valid_edges:\n",
    "        try:\n",
    "            net.add_edge(rel.source.id, rel.target.id, label=rel.type.lower())\n",
    "        except:\n",
    "            continue  # skip if error\n",
    "\n",
    "    # Configure physics\n",
    "    net.set_options(\"\"\"\n",
    "            {\n",
    "                \"physics\": {\n",
    "                    \"forceAtlas2Based\": {\n",
    "                        \"gravitationalConstant\": -100,\n",
    "                        \"centralGravity\": 0.01,\n",
    "                        \"springLength\": 200,\n",
    "                        \"springConstant\": 0.08\n",
    "                    },\n",
    "                    \"minVelocity\": 0.75,\n",
    "                    \"solver\": \"forceAtlas2Based\"\n",
    "                }\n",
    "            }\n",
    "            \"\"\")\n",
    "        \n",
    "    output_file = \"knowledge_graph.html\"\n",
    "    net.save_graph(output_file)\n",
    "    print(f\"Graph saved to {os.path.abspath(output_file)}\")\n",
    "\n",
    "    # Try to open in browser\n",
    "    try:\n",
    "        import webbrowser\n",
    "        webbrowser.open(f\"file://{os.path.abspath(output_file)}\")\n",
    "    except:\n",
    "        print(\"Could not open browser automatically\")\n",
    "        \n",
    "# Run the function\n",
    "visualize_graph(graph_doc)"
   ]
  },
  {
   "cell_type": "markdown",
   "id": "6d1d184e",
   "metadata": {},
   "source": [
    "### Extract specific types of nodes"
   ]
  },
  {
   "cell_type": "code",
   "execution_count": 14,
   "id": "b39c3d30",
   "metadata": {},
   "outputs": [],
   "source": [
    "allowed_nodes = [\"Person\", \"Organization\", \"Location\", \"Award\", \"Season\"]\n",
    "graph_transformer_nodes_defined = LLMGraphTransformer(llm=llm, allowed_nodes=allowed_nodes)\n",
    "graph_documents_nodes_defined = await graph_transformer_nodes_defined.aconvert_to_graph_documents(documents)"
   ]
  },
  {
   "cell_type": "code",
   "execution_count": 15,
   "id": "078ef923",
   "metadata": {},
   "outputs": [
    {
     "name": "stdout",
     "output_type": "stream",
     "text": [
      "Nodes:[Node(id='Game Of Thrones', type='Television series', properties={}), Node(id='David Benioff', type='Person', properties={}), Node(id='D. B. Weiss', type='Person', properties={}), Node(id='Hbo', type='Network', properties={}), Node(id='A Song Of Ice And Fire', type='Book series', properties={}), Node(id='George R. R. Martin', type='Person', properties={}), Node(id='A Game Of Thrones', type='Book', properties={}), Node(id='April 17, 2011', type='Date', properties={}), Node(id='May 19, 2019', type='Date', properties={}), Node(id='73 Episodes', type='Count', properties={}), Node(id='8 Seasons', type='Count', properties={}), Node(id='Westeros', type='Location', properties={}), Node(id='Essos', type='Location', properties={}), Node(id='Iron Throne', type='Concept', properties={}), Node(id='Record Viewership', type='Characteristic', properties={}), Node(id='Broad Fan Base', type='Characteristic', properties={}), Node(id='Critical Acclaim', type='Characteristic', properties={}), Node(id='Controversy', type='Characteristic', properties={}), Node(id='Primetime Emmy Awards', type='Award', properties={}), Node(id='Outstanding Drama Series', type='Award', properties={}), Node(id='Hugo Awards', type='Award', properties={}), Node(id='Peabody Award', type='Award', properties={}), Node(id='Golden Globe Nominations', type='Award', properties={}), Node(id='Final Season Criticism', type='Criticism', properties={}), Node(id='House Of The Dragon', type='Television series', properties={}), Node(id='2022', type='Date', properties={}), Node(id='A Knight Of The Seven Kingdoms', type='Television series', properties={}), Node(id='2026', type='Date', properties={})]\n",
      "Relationships:[Relationship(source=Node(id='Game Of Thrones', type='Television series', properties={}), target=Node(id='David Benioff', type='Person', properties={}), type='CREATED_BY', properties={}), Relationship(source=Node(id='Game Of Thrones', type='Television series', properties={}), target=Node(id='D. B. Weiss', type='Person', properties={}), type='CREATED_BY', properties={}), Relationship(source=Node(id='Game Of Thrones', type='Television series', properties={}), target=Node(id='Hbo', type='Network', properties={}), type='AIRED_ON', properties={}), Relationship(source=Node(id='Game Of Thrones', type='Television series', properties={}), target=Node(id='A Song Of Ice And Fire', type='Book series', properties={}), type='BASED_ON', properties={}), Relationship(source=Node(id='A Song Of Ice And Fire', type='Book series', properties={}), target=Node(id='George R. R. Martin', type='Person', properties={}), type='WRITTEN_BY', properties={}), Relationship(source=Node(id='Game Of Thrones', type='Television series', properties={}), target=Node(id='A Game Of Thrones', type='Book', properties={}), type='ADAPTATION_OF', properties={}), Relationship(source=Node(id='Game Of Thrones', type='Television series', properties={}), target=Node(id='April 17, 2011', type='Date', properties={}), type='PREMIERED_ON', properties={}), Relationship(source=Node(id='Game Of Thrones', type='Television series', properties={}), target=Node(id='May 19, 2019', type='Date', properties={}), type='CONCLUDED_ON', properties={}), Relationship(source=Node(id='Game Of Thrones', type='Television series', properties={}), target=Node(id='73 Episodes', type='Count', properties={}), type='CONSISTS_OF', properties={}), Relationship(source=Node(id='Game Of Thrones', type='Television series', properties={}), target=Node(id='8 Seasons', type='Count', properties={}), type='SPANNED', properties={}), Relationship(source=Node(id='Game Of Thrones', type='Television series', properties={}), target=Node(id='Westeros', type='Location', properties={}), type='SET_IN', properties={}), Relationship(source=Node(id='Game Of Thrones', type='Television series', properties={}), target=Node(id='Essos', type='Location', properties={}), type='SET_IN', properties={}), Relationship(source=Node(id='Game Of Thrones', type='Television series', properties={}), target=Node(id='Iron Throne', type='Concept', properties={}), type='CONCERNS', properties={}), Relationship(source=Node(id='Game Of Thrones', type='Television series', properties={}), target=Node(id='Record Viewership', type='Characteristic', properties={}), type='ATTRACTED', properties={}), Relationship(source=Node(id='Game Of Thrones', type='Television series', properties={}), target=Node(id='Broad Fan Base', type='Characteristic', properties={}), type='HAS', properties={}), Relationship(source=Node(id='Game Of Thrones', type='Television series', properties={}), target=Node(id='Critical Acclaim', type='Characteristic', properties={}), type='RECEIVED', properties={}), Relationship(source=Node(id='Game Of Thrones', type='Television series', properties={}), target=Node(id='Controversy', type='Characteristic', properties={}), type='GENERATED', properties={}), Relationship(source=Node(id='Game Of Thrones', type='Television series', properties={}), target=Node(id='Primetime Emmy Awards', type='Award', properties={}), type='RECEIVED', properties={}), Relationship(source=Node(id='Game Of Thrones', type='Television series', properties={}), target=Node(id='Outstanding Drama Series', type='Award', properties={}), type='WON', properties={}), Relationship(source=Node(id='Game Of Thrones', type='Television series', properties={}), target=Node(id='Hugo Awards', type='Award', properties={}), type='WON', properties={}), Relationship(source=Node(id='Game Of Thrones', type='Television series', properties={}), target=Node(id='Peabody Award', type='Award', properties={}), type='WON', properties={}), Relationship(source=Node(id='Game Of Thrones', type='Television series', properties={}), target=Node(id='Golden Globe Nominations', type='Award', properties={}), type='RECEIVED', properties={}), Relationship(source=Node(id='Game Of Thrones', type='Television series', properties={}), target=Node(id='Final Season Criticism', type='Criticism', properties={}), type='FACED', properties={}), Relationship(source=Node(id='Game Of Thrones', type='Television series', properties={}), target=Node(id='House Of The Dragon', type='Television series', properties={}), type='PREQUEL', properties={}), Relationship(source=Node(id='House Of The Dragon', type='Television series', properties={}), target=Node(id='2022', type='Date', properties={}), type='PREMIERED_IN', properties={}), Relationship(source=Node(id='Game Of Thrones', type='Television series', properties={}), target=Node(id='A Knight Of The Seven Kingdoms', type='Television series', properties={}), type='PREQUEL', properties={}), Relationship(source=Node(id='A Knight Of The Seven Kingdoms', type='Television series', properties={}), target=Node(id='2026', type='Date', properties={}), type='SCHEDULED_TO_DEBUT_IN', properties={})]\n"
     ]
    }
   ],
   "source": [
    "print(f\"Nodes:{graph_doc[0].nodes}\")\n",
    "print(f\"Relationships:{graph_doc[0].relationships}\")"
   ]
  },
  {
   "cell_type": "markdown",
   "id": "ecb70309",
   "metadata": {},
   "source": [
    "### Extract specific types of relationships"
   ]
  },
  {
   "cell_type": "code",
   "execution_count": 16,
   "id": "ed39312f",
   "metadata": {},
   "outputs": [],
   "source": [
    "allowed_nodes = [\"Person\", \"Organization\", \"Location\", \"Award\", \"ResearchField\"]\n",
    "allowed_relationships = [\n",
    "    (\"Person\", \"WORKS_AT\", \"Organization\"),\n",
    "    (\"Person\", \"SPOUSE\", \"Person\"),\n",
    "    (\"Person\", \"AWARD\", \"Award\"),\n",
    "    (\"Organization\", \"IN_LOCATION\", \"Location\"),\n",
    "    (\"Person\", \"FIELD_OF_RESEARCH\", \"ResearchField\")\n",
    "]\n",
    "graph_transformer_rel_defined = LLMGraphTransformer(\n",
    "  llm=llm,\n",
    "  allowed_nodes=allowed_nodes,\n",
    "  allowed_relationships=allowed_relationships\n",
    ")\n",
    "graph_documents_rel_defined = await graph_transformer_rel_defined.aconvert_to_graph_documents(documents)"
   ]
  },
  {
   "cell_type": "code",
   "execution_count": 17,
   "id": "02a4e366",
   "metadata": {},
   "outputs": [
    {
     "name": "stdout",
     "output_type": "stream",
     "text": [
      "Graph saved to d:\\Projects\\KnowledgeGraph_App\\knowledge_graph.html\n"
     ]
    }
   ],
   "source": [
    "# Visualize graph\n",
    "visualize_graph(graph_documents_rel_defined)"
   ]
  },
  {
   "cell_type": "code",
   "execution_count": null,
   "id": "80c35cae",
   "metadata": {},
   "outputs": [],
   "source": [
    "  "
   ]
  }
 ],
 "metadata": {
  "kernelspec": {
   "display_name": "venv",
   "language": "python",
   "name": "python3"
  },
  "language_info": {
   "codemirror_mode": {
    "name": "ipython",
    "version": 3
   },
   "file_extension": ".py",
   "mimetype": "text/x-python",
   "name": "python",
   "nbconvert_exporter": "python",
   "pygments_lexer": "ipython3",
   "version": "3.10.0"
  }
 },
 "nbformat": 4,
 "nbformat_minor": 5
}
