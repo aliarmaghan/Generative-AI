{
 "cells": [
  {
   "cell_type": "markdown",
   "metadata": {},
   "source": [
    "# Character Text Splitter\n",
    "This s the simplest method. This splits based on given character sequence, which default to \"\\n\\n\".Chunk length is measured by number of characters.\n",
    "- How the text is split: By single character separator.\n",
    "- How the chunk size is measured: By number of characters."
   ]
  },
  {
   "cell_type": "code",
   "execution_count": 1,
   "metadata": {},
   "outputs": [
    {
     "data": {
      "text/plain": [
       "[Document(metadata={'source': 'sample.txt'}, page_content='A TXT file, short for \"text file,\" is a type of computer file that stores plain text information without any formatting. These files are widely used for various purposes, such as storing data, writing scripts, and exchanging information between different programs and platforms. TXT files are simple and easy to create and edit, making them popular for a wide range of applications.\\n\\nOne of the key characteristics of TXT files is their simplicity. Unlike other file formats such as DOCX (Microsoft Word document) or PDF (Portable Document Format), which can contain complex formatting, images, and other multimedia elements, TXT files contain only plain text. This simplicity makes TXT files lightweight and easy to work with, as they can be opened and edited using a basic text editor program like Notepad on Windows or TextEdit on macOS.\\n\\nOne common use of TXT files is for storing data in a format that is easily readable by both humans and computers. For example, a TXT file might contain a list of names, addresses, or other information that needs to be processed by a computer program. Because TXT files are plain text, they can be easily parsed and manipulated using programming languages like Python, Java, or C++.\\n\\nAnother use of TXT files is for writing scripts or code. Many programming languages use TXT files as a standard way to store source code. Programmers can write code in a text editor and save it as a TXT file, which can then be compiled or interpreted by the appropriate programming language\\'s compiler or interpreter.\\n\\nTXT files are also commonly used for sharing text-based information over the internet. For example, when you download a README file from a software repository or a configuration file from a website, it is often in TXT format. This is because TXT files are platform-independent and can be opened and read on any device without the need for special software. When you download a TXT file from the internet, you are essentially downloading a plain text document that can be opened and read using any text editor or word processing program. This makes TXT files convenient for sharing information quickly and easily.\\n\\nIf you\\'re looking to work with TXT files or need a sample file for testing purposes, there are many resources available online where you can download sample TXT files. Simply search for \"sample TXT file download\" or \"text file download,\" and you\\'ll find a variety of options to choose from. These sample files can help you familiarize yourself with the structure and content of TXT files and experiment with different text editing and processing tasks.\\n\\nIn conclusion, a TXT file is a simple, plain text document that is widely used for storing data, writing code, and sharing text-based information. With their simplicity and versatility, TXT files play an essential role in computing and are an indispensable tool for anyone working with text-based data or programming languages.')]"
      ]
     },
     "execution_count": 1,
     "metadata": {},
     "output_type": "execute_result"
    }
   ],
   "source": [
    "### Text Loader\n",
    "\n",
    "from langchain_community.document_loaders import TextLoader\n",
    "\n",
    "loader = TextLoader('sample.txt')\n",
    "docs = loader.load()\n",
    "docs"
   ]
  },
  {
   "cell_type": "code",
   "execution_count": 2,
   "metadata": {},
   "outputs": [
    {
     "name": "stderr",
     "output_type": "stream",
     "text": [
      "Created a chunk of size 382, which is longer than the specified 100\n",
      "Created a chunk of size 456, which is longer than the specified 100\n",
      "Created a chunk of size 381, which is longer than the specified 100\n",
      "Created a chunk of size 317, which is longer than the specified 100\n",
      "Created a chunk of size 612, which is longer than the specified 100\n",
      "Created a chunk of size 452, which is longer than the specified 100\n"
     ]
    },
    {
     "data": {
      "text/plain": [
       "[Document(metadata={'source': 'sample.txt'}, page_content='A TXT file, short for \"text file,\" is a type of computer file that stores plain text information without any formatting. These files are widely used for various purposes, such as storing data, writing scripts, and exchanging information between different programs and platforms. TXT files are simple and easy to create and edit, making them popular for a wide range of applications.'),\n",
       " Document(metadata={'source': 'sample.txt'}, page_content='One of the key characteristics of TXT files is their simplicity. Unlike other file formats such as DOCX (Microsoft Word document) or PDF (Portable Document Format), which can contain complex formatting, images, and other multimedia elements, TXT files contain only plain text. This simplicity makes TXT files lightweight and easy to work with, as they can be opened and edited using a basic text editor program like Notepad on Windows or TextEdit on macOS.'),\n",
       " Document(metadata={'source': 'sample.txt'}, page_content='One common use of TXT files is for storing data in a format that is easily readable by both humans and computers. For example, a TXT file might contain a list of names, addresses, or other information that needs to be processed by a computer program. Because TXT files are plain text, they can be easily parsed and manipulated using programming languages like Python, Java, or C++.'),\n",
       " Document(metadata={'source': 'sample.txt'}, page_content=\"Another use of TXT files is for writing scripts or code. Many programming languages use TXT files as a standard way to store source code. Programmers can write code in a text editor and save it as a TXT file, which can then be compiled or interpreted by the appropriate programming language's compiler or interpreter.\"),\n",
       " Document(metadata={'source': 'sample.txt'}, page_content='TXT files are also commonly used for sharing text-based information over the internet. For example, when you download a README file from a software repository or a configuration file from a website, it is often in TXT format. This is because TXT files are platform-independent and can be opened and read on any device without the need for special software. When you download a TXT file from the internet, you are essentially downloading a plain text document that can be opened and read using any text editor or word processing program. This makes TXT files convenient for sharing information quickly and easily.'),\n",
       " Document(metadata={'source': 'sample.txt'}, page_content='If you\\'re looking to work with TXT files or need a sample file for testing purposes, there are many resources available online where you can download sample TXT files. Simply search for \"sample TXT file download\" or \"text file download,\" and you\\'ll find a variety of options to choose from. These sample files can help you familiarize yourself with the structure and content of TXT files and experiment with different text editing and processing tasks.'),\n",
       " Document(metadata={'source': 'sample.txt'}, page_content='In conclusion, a TXT file is a simple, plain text document that is widely used for storing data, writing code, and sharing text-based information. With their simplicity and versatility, TXT files play an essential role in computing and are an indispensable tool for anyone working with text-based data or programming languages.')]"
      ]
     },
     "execution_count": 2,
     "metadata": {},
     "output_type": "execute_result"
    }
   ],
   "source": [
    "from langchain_text_splitters import CharacterTextSplitter\n",
    "text_splitter =  CharacterTextSplitter(separator=\"\\n\\n\",chunk_size=100,chunk_overlap=20)\n",
    "text_splitter.split_documents(docs)"
   ]
  },
  {
   "cell_type": "code",
   "execution_count": 3,
   "metadata": {},
   "outputs": [
    {
     "name": "stderr",
     "output_type": "stream",
     "text": [
      "Created a chunk of size 382, which is longer than the specified 100\n",
      "Created a chunk of size 456, which is longer than the specified 100\n",
      "Created a chunk of size 381, which is longer than the specified 100\n",
      "Created a chunk of size 317, which is longer than the specified 100\n",
      "Created a chunk of size 612, which is longer than the specified 100\n",
      "Created a chunk of size 452, which is longer than the specified 100\n"
     ]
    },
    {
     "name": "stdout",
     "output_type": "stream",
     "text": [
      "page_content='A TXT file, short for \"text file,\" is a type of computer file that stores plain text information without any formatting. These files are widely used for various purposes, such as storing data, writing scripts, and exchanging information between different programs and platforms. TXT files are simple and easy to create and edit, making them popular for a wide range of applications.'\n",
      "page_content='One of the key characteristics of TXT files is their simplicity. Unlike other file formats such as DOCX (Microsoft Word document) or PDF (Portable Document Format), which can contain complex formatting, images, and other multimedia elements, TXT files contain only plain text. This simplicity makes TXT files lightweight and easy to work with, as they can be opened and edited using a basic text editor program like Notepad on Windows or TextEdit on macOS.'\n"
     ]
    }
   ],
   "source": [
    "speech =''\n",
    "with open (\"sample.txt\") as f:\n",
    "    speech = f.read()\n",
    "\n",
    "\n",
    "text_splitter = CharacterTextSplitter(chunk_size=100, chunk_overlap=20)\n",
    "text = text_splitter.create_documents([speech])\n",
    "print(text[0])\n",
    "print(text[1])"
   ]
  },
  {
   "cell_type": "code",
   "execution_count": null,
   "metadata": {},
   "outputs": [],
   "source": []
  }
 ],
 "metadata": {
  "kernelspec": {
   "display_name": "venv",
   "language": "python",
   "name": "python3"
  },
  "language_info": {
   "codemirror_mode": {
    "name": "ipython",
    "version": 3
   },
   "file_extension": ".py",
   "mimetype": "text/x-python",
   "name": "python",
   "nbconvert_exporter": "python",
   "pygments_lexer": "ipython3",
   "version": "3.9.10"
  }
 },
 "nbformat": 4,
 "nbformat_minor": 2
}
