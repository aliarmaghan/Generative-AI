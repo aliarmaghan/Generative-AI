{
 "cells": [
  {
   "cell_type": "markdown",
   "metadata": {},
   "source": [
    "### Getting started With Langchain With Open AI\n",
    "\n",
    "In this quickstart we'll see how to:\n",
    "- Get setup with Langchain, LangSmith and LangServe\n",
    "- Use the most basis and common components of LangChain: prompt templates, models, and output parsers.\n",
    "- Build a simple application with Langchain\n",
    "- Trace your application with LangSmith\n",
    "- Serve your application with LangServe"
   ]
  },
  {
   "cell_type": "markdown",
   "metadata": {},
   "source": []
  }
 ],
 "metadata": {
  "language_info": {
   "name": "python"
  }
 },
 "nbformat": 4,
 "nbformat_minor": 2
}
