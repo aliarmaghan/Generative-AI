{
 "cells": [
  {
   "cell_type": "code",
   "execution_count": 5,
   "metadata": {},
   "outputs": [
    {
     "name": "stdout",
     "output_type": "stream",
     "text": [
      "Failed to connect: (pyodbc.Error) ('IM012', '[IM012] [Microsoft][ODBC Driver Manager] DRIVER keyword syntax error (0) (SQLDriverConnect)')\n",
      "(Background on this error at: https://sqlalche.me/e/20/dbapi)\n"
     ]
    }
   ],
   "source": [
    "from sqlalchemy import create_engine\n",
    "\n",
    "sqlserver_server = 'LAPTOP-5EESASMD\\MSSQLSERVER01'\n",
    "sqlserver_db = 'sql_traininig'\n",
    "connection_string = f\"mssql+pyodbc://{sqlserver_server}/{sqlserver_db}?driver=ODBC+Driver+17+for+SQL+Server;trusted_connection=yes\"\n",
    "\n",
    "\n",
    "try:\n",
    "    engine = create_engine(connection_string)\n",
    "    connection = engine.connect()\n",
    "    print(\"Connection successful!\")\n",
    "except Exception as e:\n",
    "    print(f\"Failed to connect: {e}\")\n"
   ]
  },
  {
   "cell_type": "code",
   "execution_count": null,
   "metadata": {},
   "outputs": [],
   "source": []
  }
 ],
 "metadata": {
  "kernelspec": {
   "display_name": "venv",
   "language": "python",
   "name": "python3"
  },
  "language_info": {
   "codemirror_mode": {
    "name": "ipython",
    "version": 3
   },
   "file_extension": ".py",
   "mimetype": "text/x-python",
   "name": "python",
   "nbconvert_exporter": "python",
   "pygments_lexer": "ipython3",
   "version": "3.10.0"
  }
 },
 "nbformat": 4,
 "nbformat_minor": 2
}
